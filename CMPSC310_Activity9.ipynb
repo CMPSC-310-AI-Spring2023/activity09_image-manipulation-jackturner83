{
  "cells": [
    {
      "cell_type": "markdown",
      "metadata": {
        "colab_type": "text",
        "id": "view-in-github"
      },
      "source": [
        "<a href=\"https://colab.research.google.com/github/CMPSC-310-AI-Spring2023/activity09_image-manipulation/blob/main/CMPSC310_Activity9.ipynb\" target=\"_parent\"><img src=\"https://colab.research.google.com/assets/colab-badge.svg\" alt=\"Open In Colab\"/></a>"
      ]
    },
    {
      "cell_type": "markdown",
      "metadata": {
        "id": "vcrrIOhGjS0Z"
      },
      "source": [
        "# **Activity 9: Image Manipulation **\n"
      ]
    },
    {
      "cell_type": "code",
      "execution_count": null,
      "metadata": {},
      "outputs": [],
      "source": [
        "import numpy as np\n",
        "import cv2\n",
        "image = cv2.imread(\"/content/drive/My Drive/CMPSC310_ColabNotebooks/images/flint1.jpg\")\n",
        "print(image.shape)\n",
        "\n",
        "mask = np.zeros(image.shape[:2], dtype=\"uint8\")\n",
        "(cX, cY) = (image.shape[1] // 2, image.shape[0] // 2)\n",
        "cv2.rectangle(mask, (cX - 75, cY - 75), (cX + 75, cY + 75), 255, -1)\n",
        "cv2.imwrite(\"mask1.png\", mask)\n",
        "\n",
        "masked = cv2.bitwise_and(image, image, mask=mask)\n",
        "cv2.imwrite(\"/content/drive/My Drive/CMPSC310_ColabNotebooks/images/masked1.png\", masked)\n",
        "\n",
        "mask = np.zeros(image.shape[:2], dtype=\"uint8\")\n",
        "cv2.circle(mask, (cX, cY), 100, 255, -1)\n",
        "cv2.imwrite(\"mask2.png\", mask)\n",
        "\n",
        "masked = cv2.bitwise_and(image, image, mask=mask)\n",
        "cv2.imwrite(\"/content/drive/My Drive/CMPSC310_ColabNotebooks/images/masked2.png\", masked)\n",
        "\n",
        "gray = cv2.cvtColor(masked, cv2.COLOR_BGR2GRAY)\n",
        "cv2.imwrite(\"gray.png\", gray)"
      ]
    },
    {
      "cell_type": "code",
      "execution_count": null,
      "metadata": {},
      "outputs": [],
      "source": [
        "import numpy as np\n",
        "import cv2\n",
        "\n",
        "image = cv2.imread(\"/content/drive/My Drive/CMPSC310_ColabNotebooks/images/awards.png\")\n",
        "print(image.shape)\n",
        "\n",
        "mask = np.zeros(image.shape[:2], dtype=\"uint8\")\n",
        "(cX, cY) = (image.shape[1] // 10, image.shape[0] // 10)\n",
        "print(cX)\n",
        "print(cY)\n",
        "cv2.rectangle(mask, (cX + 200, cY + 200), (cX + 3000, cY + 1200), 255, -1)\n",
        "cv2.imwrite(\"mask.png\", mask)\n",
        "\n",
        "masked = cv2.bitwise_and(image, image, mask=mask)\n",
        "cv2.imwrite(\"/content/drive/My Drive/CMPSC310_ColabNotebooks/images/masked.png\", masked)"
      ]
    }
  ],
  "metadata": {
    "colab": {
      "authorship_tag": "ABX9TyO1EW9IiVqkQM1c2GY6XqBQ",
      "include_colab_link": true,
      "provenance": []
    },
    "kernelspec": {
      "display_name": "Python 3",
      "name": "python3"
    },
    "language_info": {
      "name": "python"
    }
  },
  "nbformat": 4,
  "nbformat_minor": 0
}
